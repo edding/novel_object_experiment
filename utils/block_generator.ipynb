{
 "cells": [
  {
   "attachments": {},
   "cell_type": "markdown",
   "metadata": {},
   "source": [
    "# Block Generator\n",
    "\n",
    "This notebook generates a list of blocks for the novel object eperiments, given the number of objects `N_ITEMS` and the number of novels we'd like to display in a trial `N_ITEMS_PER_BLOCK`.\n",
    "\n",
    "The generated blocks meet the following condition:\n",
    "\n",
    "1. Each unique pair of objects (obj1, obj2) will at least appear in one block.\n",
    "2. We run mutliple simulations trying to minimize the number of total trials (blocks), in order to reduce the effort required from subjects to complete the experiment.\n",
    "\n",
    "This is similar to find a [Steiner System](https://en.wikipedia.org/wiki/Steiner_system) of $S(2,k,n)$, except that we do not guarantee the opitimal solution, i.e. the minumum number of blocks.\n",
    "\n",
    "- $k$: number of objects per block\n",
    "- $n$: number of items\n",
    "\n",
    "The algorithm is as follows:\n",
    "\n",
    "<center>\n",
    "<img src=\"block_generation_algorithm.png\" alt=\"Block generation algorithm\" width=\"600\" height=auto>\n",
    "</center>\n"
   ]
  },
  {
   "attachments": {},
   "cell_type": "markdown",
   "metadata": {},
   "source": [
    "Latex code for generating the pseudocode above:\n",
    "\n",
    "```Latex\n",
    "\\documentclass{article}\n",
    "\\usepackage{algorithm}\n",
    "\\usepackage{algpseudocode}\n",
    "\\begin{document}\n",
    "\n",
    "\\begin{algorithm}\n",
    "    \\caption{Algorithm for Generating Blocks}\\label{alg:block}\n",
    "    \\begin{algorithmic}[1]\n",
    "        \\Require $N > 0$\n",
    "        \\Require $K > 0$\n",
    "        \\vspace{\\baselineskip}\n",
    "\n",
    "        \\State $\\mathcal{P} \\gets$ all possible pairs of numbers from $1$ to $N$\n",
    "        \\State $\\mathcal{P}^* \\gets$ empty set\n",
    "        \\State $\\mathcal{B} \\gets$ empty set\n",
    "        \\vspace{\\baselineskip}\n",
    "\n",
    "        \\While{$\\mathcal{P}$ is not empty}\n",
    "            \\State $b \\gets$ empty set\n",
    "            \\While{$|b| < K$ and $\\mathcal{P}$ is not empty}  \\Comment{More objects are needed}\n",
    "                \\State $p \\gets$ random pair from $\\mathcal{P}$\n",
    "                \\If{$p$ is not in $\\mathcal{P}^*$}\n",
    "                    \\State add $p_0$ to $b$\n",
    "                    \\If{$|b| < K$}\n",
    "                        \\State add $p_1$ to $b$\n",
    "                         \\State $\\mathcal{P} \\gets \\mathcal{P} - \\{p\\}$ \\Comment{Pair consumed}\n",
    "                    \\EndIf\n",
    "                    \\vspace{\\baselineskip}\n",
    "                    \\State $\\mathcal{P}^* \\gets \\mathcal{P}^* \\cup$ all possible pairs of numbers from $b$\n",
    "                    \\State $\\mathcal{P} \\gets \\mathcal{P} - \\mathcal{P}^*$  \\Comment{Remove the covered pairs}\n",
    "                \\EndIf\n",
    "            \\EndWhile\n",
    "            \\vspace{\\baselineskip}\n",
    "            \\If{$b$ is not empty}\n",
    "                \\State $\\mathcal{B} \\gets \\mathcal{B} \\cup b$\n",
    "            \\EndIf\n",
    "        \\EndWhile\n",
    "        \\vspace{\\baselineskip}\n",
    "\n",
    "        \\State \\textbf{return} $\\mathcal{B}$\n",
    "    \\end{algorithmic}\n",
    "\\end{algorithm}\n",
    "\n",
    "\\end{document}\n",
    "\n",
    "```\n"
   ]
  },
  {
   "cell_type": "code",
   "execution_count": 1,
   "metadata": {},
   "outputs": [
    {
     "name": "stderr",
     "output_type": "stream",
     "text": [
      "<ipython-input-1-ee3dce4abcd2>:4: TqdmExperimentalWarning: Using `tqdm.autonotebook.tqdm` in notebook mode. Use `tqdm.tqdm` instead to force console mode (e.g. in jupyter console)\n",
      "  from tqdm.autonotebook import tqdm\n"
     ]
    }
   ],
   "source": [
    "from itertools import combinations\n",
    "from collections import deque\n",
    "from random import shuffle\n",
    "from tqdm.autonotebook import tqdm\n",
    "\n",
    "import pandas as pd\n"
   ]
  },
  {
   "cell_type": "code",
   "execution_count": 2,
   "metadata": {},
   "outputs": [],
   "source": [
    "N_ITEMS = 30\n",
    "N_ITEMS_PER_BLOCK = 16\n"
   ]
  },
  {
   "cell_type": "code",
   "execution_count": 3,
   "metadata": {},
   "outputs": [
    {
     "name": "stdout",
     "output_type": "stream",
     "text": [
      "number of pairs: 435\n",
      "exmple pair: (1, 2)\n"
     ]
    }
   ],
   "source": [
    "# Generate all possible combinations of (x, y) from 1 to N_ITEMS\n",
    "PAIRS = list(combinations(range(1, N_ITEMS + 1), 2))\n",
    "print(\"number of pairs:\", len(PAIRS))\n",
    "print(\"exmple pair:\", PAIRS[0])\n"
   ]
  },
  {
   "cell_type": "code",
   "execution_count": 4,
   "metadata": {},
   "outputs": [],
   "source": [
    "def generate_blocks(n_items, n_items_per_block):\n",
    "    # Generate all possible combinations of (x, y) from 1 to n_items\n",
    "    pairs = deque(combinations(range(1, n_items + 1), 2))\n",
    "\n",
    "    blocks = []\n",
    "    pair_used = set()\n",
    "    while pairs:\n",
    "        block = set()\n",
    "        # randomize the remaining pairs\n",
    "        shuffle(pairs)\n",
    "        while pairs and len(block) < n_items_per_block:\n",
    "            pair = pairs[0]\n",
    "            if pair not in pair_used:\n",
    "                block.add(pair[0])\n",
    "\n",
    "                if len(block) < n_items_per_block:\n",
    "                    block.add(pair[1])\n",
    "                    pairs.popleft()  # remove the pair from the list\n",
    "\n",
    "                # For all possible pair the current block can cover, mark then as used\n",
    "                for used_pair in combinations(block, 2):\n",
    "                    pair_used.add(used_pair)\n",
    "\n",
    "                pairs = deque(set(pairs) - pair_used)\n",
    "\n",
    "        # Save this block if it is not empty\n",
    "        if block:\n",
    "            blocks.append(sorted(block))\n",
    "\n",
    "    return blocks\n"
   ]
  },
  {
   "cell_type": "code",
   "execution_count": 5,
   "metadata": {},
   "outputs": [
    {
     "data": {
      "text/plain": [
       "8"
      ]
     },
     "execution_count": 5,
     "metadata": {},
     "output_type": "execute_result"
    }
   ],
   "source": [
    "test_blocks = generate_blocks(N_ITEMS, N_ITEMS_PER_BLOCK)\n",
    "len(test_blocks)\n"
   ]
  },
  {
   "cell_type": "code",
   "execution_count": 6,
   "metadata": {},
   "outputs": [],
   "source": [
    "def validate_blocks(_blocks, n_items, n_items_per_block):\n",
    "    \"\"\"Make sure the block we created is valid\"\"\"\n",
    "    for block in _blocks:\n",
    "        assert len(block) <= n_items_per_block\n",
    "\n",
    "    pairs = set(combinations(range(1, n_items + 1), 2))\n",
    "    for i, j in pairs:\n",
    "        found = False\n",
    "        for block in _blocks:\n",
    "            if i in block and j in block:\n",
    "                found = True\n",
    "                break\n",
    "        if not found:\n",
    "            print(i, j)\n",
    "            return\n",
    "    print(\"Block is Valid\")\n"
   ]
  },
  {
   "cell_type": "code",
   "execution_count": 7,
   "metadata": {},
   "outputs": [
    {
     "name": "stdout",
     "output_type": "stream",
     "text": [
      "Block is Valid\n"
     ]
    }
   ],
   "source": [
    "validate_blocks(test_blocks, N_ITEMS, N_ITEMS_PER_BLOCK)\n"
   ]
  },
  {
   "cell_type": "code",
   "execution_count": 8,
   "metadata": {},
   "outputs": [],
   "source": [
    "def get_minimum_blocks(n_items, n_items_per_block, n_trials=500):\n",
    "    \"\"\"\n",
    "    Run `generate_blocks` for `n_trials` times and return the one with the minimum number of blocks\n",
    "    \"\"\"\n",
    "    best_block = []\n",
    "    min_blocks = 9999\n",
    "\n",
    "    for _ in range(n_trials):\n",
    "        _blocks = generate_blocks(n_items, n_items_per_block)\n",
    "        if len(_blocks) < min_blocks:\n",
    "            min_blocks = len(_blocks)\n",
    "            best_block = _blocks\n",
    "\n",
    "    return best_block\n"
   ]
  },
  {
   "cell_type": "code",
   "execution_count": 9,
   "metadata": {},
   "outputs": [
    {
     "data": {
      "application/vnd.jupyter.widget-view+json": {
       "model_id": "c84ba5655f7046168558120e71df2bef",
       "version_major": 2,
       "version_minor": 0
      },
      "text/plain": [
       "  0%|          | 0/12 [00:00<?, ?it/s]"
      ]
     },
     "metadata": {},
     "output_type": "display_data"
    },
    {
     "data": {
      "text/html": [
       "<div>\n",
       "<style scoped>\n",
       "    .dataframe tbody tr th:only-of-type {\n",
       "        vertical-align: middle;\n",
       "    }\n",
       "\n",
       "    .dataframe tbody tr th {\n",
       "        vertical-align: top;\n",
       "    }\n",
       "\n",
       "    .dataframe thead th {\n",
       "        text-align: right;\n",
       "    }\n",
       "</style>\n",
       "<table border=\"1\" class=\"dataframe\">\n",
       "  <thead>\n",
       "    <tr style=\"text-align: right;\">\n",
       "      <th></th>\n",
       "      <th>block_size</th>\n",
       "      <th>min_trials</th>\n",
       "    </tr>\n",
       "  </thead>\n",
       "  <tbody>\n",
       "    <tr>\n",
       "      <th>0</th>\n",
       "      <td>8</td>\n",
       "      <td>29</td>\n",
       "    </tr>\n",
       "    <tr>\n",
       "      <th>1</th>\n",
       "      <td>9</td>\n",
       "      <td>23</td>\n",
       "    </tr>\n",
       "    <tr>\n",
       "      <th>2</th>\n",
       "      <td>10</td>\n",
       "      <td>19</td>\n",
       "    </tr>\n",
       "    <tr>\n",
       "      <th>3</th>\n",
       "      <td>11</td>\n",
       "      <td>15</td>\n",
       "    </tr>\n",
       "    <tr>\n",
       "      <th>4</th>\n",
       "      <td>12</td>\n",
       "      <td>13</td>\n",
       "    </tr>\n",
       "    <tr>\n",
       "      <th>5</th>\n",
       "      <td>13</td>\n",
       "      <td>10</td>\n",
       "    </tr>\n",
       "    <tr>\n",
       "      <th>6</th>\n",
       "      <td>14</td>\n",
       "      <td>9</td>\n",
       "    </tr>\n",
       "    <tr>\n",
       "      <th>7</th>\n",
       "      <td>15</td>\n",
       "      <td>7</td>\n",
       "    </tr>\n",
       "    <tr>\n",
       "      <th>8</th>\n",
       "      <td>16</td>\n",
       "      <td>6</td>\n",
       "    </tr>\n",
       "    <tr>\n",
       "      <th>9</th>\n",
       "      <td>17</td>\n",
       "      <td>6</td>\n",
       "    </tr>\n",
       "    <tr>\n",
       "      <th>10</th>\n",
       "      <td>18</td>\n",
       "      <td>5</td>\n",
       "    </tr>\n",
       "    <tr>\n",
       "      <th>11</th>\n",
       "      <td>19</td>\n",
       "      <td>4</td>\n",
       "    </tr>\n",
       "  </tbody>\n",
       "</table>\n",
       "</div>"
      ],
      "text/plain": [
       "    block_size  min_trials\n",
       "0            8          29\n",
       "1            9          23\n",
       "2           10          19\n",
       "3           11          15\n",
       "4           12          13\n",
       "5           13          10\n",
       "6           14           9\n",
       "7           15           7\n",
       "8           16           6\n",
       "9           17           6\n",
       "10          18           5\n",
       "11          19           4"
      ]
     },
     "execution_count": 9,
     "metadata": {},
     "output_type": "execute_result"
    }
   ],
   "source": [
    "# Try different number of items per block, find a reasonable number for my experiment\n",
    "block_size_and_min_trials = []\n",
    "\n",
    "for block_size in tqdm(range(8, 20)):\n",
    "    blocks = get_minimum_blocks(N_ITEMS, block_size, n_trials=1000)\n",
    "    block_size_and_min_trials.append((block_size, len(blocks)))\n",
    "\n",
    "pd.DataFrame(block_size_and_min_trials, columns=[\"block_size\", \"min_trials\"])\n"
   ]
  },
  {
   "cell_type": "code",
   "execution_count": 10,
   "metadata": {},
   "outputs": [],
   "source": [
    "my_blocks = get_minimum_blocks(N_ITEMS, 16, n_trials=5000)\n"
   ]
  },
  {
   "cell_type": "code",
   "execution_count": 11,
   "metadata": {},
   "outputs": [
    {
     "name": "stdout",
     "output_type": "stream",
     "text": [
      "Block is Valid\n"
     ]
    }
   ],
   "source": [
    "validate_blocks(my_blocks, N_ITEMS, N_ITEMS_PER_BLOCK)\n"
   ]
  },
  {
   "cell_type": "code",
   "execution_count": 12,
   "metadata": {},
   "outputs": [
    {
     "data": {
      "text/plain": [
       "[[3, 4, 7, 8, 9, 11, 13, 14, 15, 17, 18, 21, 22, 23, 26, 30],\n",
       " [2, 3, 5, 6, 10, 11, 12, 16, 18, 19, 20, 23, 25, 27, 28, 29],\n",
       " [1, 3, 5, 7, 9, 10, 14, 15, 16, 19, 20, 22, 24, 26, 28, 30],\n",
       " [1, 2, 4, 5, 6, 7, 8, 12, 13, 15, 17, 19, 21, 24, 27, 28],\n",
       " [1, 2, 6, 7, 9, 10, 12, 14, 18, 21, 22, 25, 26, 27, 29, 30],\n",
       " [1, 4, 8, 10, 11, 13, 15, 16, 17, 18, 20, 21, 23, 24, 25, 29]]"
      ]
     },
     "execution_count": 12,
     "metadata": {},
     "output_type": "execute_result"
    }
   ],
   "source": [
    "my_blocks\n"
   ]
  },
  {
   "cell_type": "code",
   "execution_count": 13,
   "metadata": {},
   "outputs": [
    {
     "data": {
      "text/plain": [
       "[16, 16, 16, 16, 16, 16]"
      ]
     },
     "execution_count": 13,
     "metadata": {},
     "output_type": "execute_result"
    }
   ],
   "source": [
    "[len(x) for x in my_blocks]\n"
   ]
  },
  {
   "cell_type": "code",
   "execution_count": null,
   "metadata": {},
   "outputs": [],
   "source": []
  }
 ],
 "metadata": {
  "kernelspec": {
   "display_name": "alice_study",
   "language": "python",
   "name": "python3"
  },
  "language_info": {
   "codemirror_mode": {
    "name": "ipython",
    "version": 3
   },
   "file_extension": ".py",
   "mimetype": "text/x-python",
   "name": "python",
   "nbconvert_exporter": "python",
   "pygments_lexer": "ipython3",
   "version": "3.9.12"
  },
  "orig_nbformat": 4
 },
 "nbformat": 4,
 "nbformat_minor": 2
}
